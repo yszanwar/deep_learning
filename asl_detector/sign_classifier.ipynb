{
 "cells": [
  {
   "cell_type": "code",
   "execution_count": 6,
   "metadata": {},
   "outputs": [],
   "source": [
    "import keras\n",
    "import tensorflow as tf\n",
    "from keras import layers, models\n",
    "from keras.preprocessing.image import ImageDataGenerator\n",
    "import cv2\n",
    "\n",
    "# Helper libraries\n",
    "import numpy as np\n",
    "import matplotlib.pyplot as plt"
   ]
  },
  {
   "cell_type": "code",
   "execution_count": 7,
   "metadata": {},
   "outputs": [],
   "source": [
    "model = models.Sequential()\n",
    "model.add(layers.Conv2D(32, (3, 3), activation='relu',\n",
    "                        input_shape=(150, 150, 3)))\n",
    "model.add(layers.MaxPooling2D((2, 2)))\n",
    "model.add(layers.Conv2D(64, (3, 3), activation='relu'))\n",
    "model.add(layers.MaxPooling2D((2, 2)))\n",
    "model.add(layers.Conv2D(128, (3, 3), activation='relu'))\n",
    "model.add(layers.MaxPooling2D((2, 2)))\n",
    "model.add(layers.Conv2D(128, (3, 3), activation='relu'))\n",
    "model.add(layers.MaxPooling2D((2, 2)))\n",
    "model.add(layers.Flatten())\n",
    "model.add(layers.Dense(512, activation='relu'))\n",
    "model.add(layers.Dense(28, activation='sigmoid'))"
   ]
  },
  {
   "cell_type": "code",
   "execution_count": 8,
   "metadata": {
    "scrolled": true
   },
   "outputs": [
    {
     "name": "stdout",
     "output_type": "stream",
     "text": [
      "Found 84000 images belonging to 28 classes.\n",
      "Found 28 images belonging to 28 classes.\n"
     ]
    }
   ],
   "source": [
    "#pre_processing of training data\n",
    "train_dir=\"asl_train_data\"\n",
    "test_dir=\"asl_alphabet_test\"\n",
    "\n",
    "train_datagen = ImageDataGenerator(rescale=1./255)\n",
    "test_datagen = ImageDataGenerator(rescale=1./255)\n",
    "\n",
    "train_generator = train_datagen.flow_from_directory(\n",
    "    train_dir,\n",
    "    target_size=(150,150),\n",
    "    batch_size=20)\n",
    "\n",
    "validation_generator = test_datagen.flow_from_directory(\n",
    "        test_dir,target_size=(150, 150),\n",
    "        batch_size=20)\n"
   ]
  },
  {
   "cell_type": "code",
   "execution_count": 9,
   "metadata": {},
   "outputs": [
    {
     "data": {
      "text/plain": [
       "{'A': 0,\n",
       " 'B': 1,\n",
       " 'C': 2,\n",
       " 'D': 3,\n",
       " 'E': 4,\n",
       " 'F': 5,\n",
       " 'G': 6,\n",
       " 'H': 7,\n",
       " 'I': 8,\n",
       " 'J': 9,\n",
       " 'K': 10,\n",
       " 'L': 11,\n",
       " 'M': 12,\n",
       " 'N': 13,\n",
       " 'O': 14,\n",
       " 'P': 15,\n",
       " 'Q': 16,\n",
       " 'R': 17,\n",
       " 'S': 18,\n",
       " 'T': 19,\n",
       " 'U': 20,\n",
       " 'V': 21,\n",
       " 'W': 22,\n",
       " 'X': 23,\n",
       " 'Y': 24,\n",
       " 'Z': 25,\n",
       " 'nothing': 26,\n",
       " 'space': 27}"
      ]
     },
     "execution_count": 9,
     "metadata": {},
     "output_type": "execute_result"
    }
   ],
   "source": [
    "label_map = (validation_generator.class_indices)\n",
    "label_map"
   ]
  },
  {
   "cell_type": "code",
   "execution_count": 10,
   "metadata": {},
   "outputs": [
    {
     "data": {
      "text/plain": [
       "{'A': 0,\n",
       " 'B': 1,\n",
       " 'C': 2,\n",
       " 'D': 3,\n",
       " 'E': 4,\n",
       " 'F': 5,\n",
       " 'G': 6,\n",
       " 'H': 7,\n",
       " 'I': 8,\n",
       " 'J': 9,\n",
       " 'K': 10,\n",
       " 'L': 11,\n",
       " 'M': 12,\n",
       " 'N': 13,\n",
       " 'O': 14,\n",
       " 'P': 15,\n",
       " 'Q': 16,\n",
       " 'R': 17,\n",
       " 'S': 18,\n",
       " 'T': 19,\n",
       " 'U': 20,\n",
       " 'V': 21,\n",
       " 'W': 22,\n",
       " 'X': 23,\n",
       " 'Y': 24,\n",
       " 'Z': 25,\n",
       " 'nothing': 26,\n",
       " 'space': 27}"
      ]
     },
     "execution_count": 10,
     "metadata": {},
     "output_type": "execute_result"
    }
   ],
   "source": [
    "label_map = (train_generator.class_indices)\n",
    "label_map"
   ]
  },
  {
   "cell_type": "code",
   "execution_count": 11,
   "metadata": {},
   "outputs": [],
   "source": [
    "from keras import optimizers\n",
    "model.compile(loss='categorical_crossentropy',\n",
    "    optimizer=keras.optimizers.Adam(),\n",
    "    metrics=['acc'])"
   ]
  },
  {
   "cell_type": "code",
   "execution_count": 12,
   "metadata": {},
   "outputs": [
    {
     "name": "stdout",
     "output_type": "stream",
     "text": [
      "Epoch 1/22\n",
      "100/100 [==============================] - 122s 1s/step - loss: 3.3122 - acc: 0.0485 - val_loss: 3.2170 - val_acc: 0.0714\n",
      "Epoch 2/22\n",
      "100/100 [==============================] - 106s 1s/step - loss: 3.0200 - acc: 0.1425 - val_loss: 2.1900 - val_acc: 0.3929\n",
      "Epoch 3/22\n",
      "100/100 [==============================] - 118s 1s/step - loss: 2.1754 - acc: 0.3625 - val_loss: 0.9868 - val_acc: 0.6786\n",
      "Epoch 4/22\n",
      "100/100 [==============================] - 121s 1s/step - loss: 1.5004 - acc: 0.5225 - val_loss: 0.7655 - val_acc: 0.7143\n",
      "Epoch 5/22\n",
      "100/100 [==============================] - 108s 1s/step - loss: 1.0904 - acc: 0.6625 - val_loss: 0.6096 - val_acc: 0.7857\n",
      "Epoch 6/22\n",
      "100/100 [==============================] - 106s 1s/step - loss: 0.8751 - acc: 0.7070 - val_loss: 0.4769 - val_acc: 0.9286\n",
      "Epoch 7/22\n",
      "100/100 [==============================] - 108s 1s/step - loss: 0.7029 - acc: 0.7620 - val_loss: 0.3461 - val_acc: 0.8929\n",
      "Epoch 8/22\n",
      "100/100 [==============================] - 107s 1s/step - loss: 0.5747 - acc: 0.8125 - val_loss: 0.4588 - val_acc: 0.8571\n",
      "Epoch 9/22\n",
      "100/100 [==============================] - 107s 1s/step - loss: 0.5296 - acc: 0.8370 - val_loss: 0.3939 - val_acc: 0.9643\n",
      "Epoch 10/22\n",
      "100/100 [==============================] - 112s 1s/step - loss: 0.4500 - acc: 0.8600 - val_loss: 0.5040 - val_acc: 0.8929\n",
      "Epoch 11/22\n",
      "100/100 [==============================] - 113s 1s/step - loss: 0.3761 - acc: 0.8680 - val_loss: 0.4557 - val_acc: 0.8929\n",
      "Epoch 12/22\n",
      "100/100 [==============================] - 106s 1s/step - loss: 0.3382 - acc: 0.8900 - val_loss: 0.3554 - val_acc: 0.8929\n",
      "Epoch 13/22\n",
      "100/100 [==============================] - 106s 1s/step - loss: 0.2854 - acc: 0.9060 - val_loss: 0.3496 - val_acc: 0.9286\n",
      "Epoch 14/22\n",
      "100/100 [==============================] - 106s 1s/step - loss: 0.2389 - acc: 0.9160 - val_loss: 0.2224 - val_acc: 0.9643\n",
      "Epoch 15/22\n",
      "100/100 [==============================] - 107s 1s/step - loss: 0.2586 - acc: 0.9130 - val_loss: 0.5162 - val_acc: 0.9286\n",
      "Epoch 16/22\n",
      "100/100 [==============================] - 107s 1s/step - loss: 0.2336 - acc: 0.9210 - val_loss: 0.1006 - val_acc: 0.9643\n",
      "Epoch 17/22\n",
      "100/100 [==============================] - 108s 1s/step - loss: 0.2377 - acc: 0.9200 - val_loss: 0.1210 - val_acc: 0.9643\n",
      "Epoch 18/22\n",
      "100/100 [==============================] - 113s 1s/step - loss: 0.1990 - acc: 0.9320 - val_loss: 0.0129 - val_acc: 1.0000\n",
      "Epoch 19/22\n",
      "100/100 [==============================] - 106s 1s/step - loss: 0.2171 - acc: 0.9295 - val_loss: 0.2220 - val_acc: 0.8929\n",
      "Epoch 20/22\n",
      "100/100 [==============================] - 110s 1s/step - loss: 0.2094 - acc: 0.9365 - val_loss: 0.0498 - val_acc: 1.0000\n",
      "Epoch 21/22\n",
      "100/100 [==============================] - 109s 1s/step - loss: 0.1508 - acc: 0.9510 - val_loss: 0.0520 - val_acc: 0.9643\n",
      "Epoch 22/22\n",
      "100/100 [==============================] - 108s 1s/step - loss: 0.1672 - acc: 0.9525 - val_loss: 0.0024 - val_acc: 1.0000\n"
     ]
    }
   ],
   "source": [
    "history = model.fit_generator(\n",
    "      train_generator,\n",
    "      steps_per_epoch=100,\n",
    "      epochs=22,\n",
    "      validation_data=validation_generator,\n",
    "      validation_steps=50)"
   ]
  },
  {
   "cell_type": "code",
   "execution_count": 13,
   "metadata": {},
   "outputs": [],
   "source": [
    "model.save('asl_language.h5')"
   ]
  },
  {
   "cell_type": "code",
   "execution_count": 15,
   "metadata": {},
   "outputs": [
    {
     "data": {
      "image/png": "[encoded data removed]",
      "text/plain": [
       "<matplotlib.figure.Figure at 0x12aceb2e8>"
      ]
     },
     "metadata": {},
     "output_type": "display_data"
    },
    {
     "data": {
      "image/png": "[encoded data removed]",
      "text/plain": [
       "<matplotlib.figure.Figure at 0x128290780>"
      ]
     },
     "metadata": {},
     "output_type": "display_data"
    }
   ],
   "source": [
    "import matplotlib.pyplot as plt\n",
    "acc = history.history['acc']\n",
    "val_acc = history.history['val_acc']\n",
    "loss = history.history['loss']\n",
    "val_loss = history.history['val_loss']\n",
    "epochs = range(1, len(acc) + 1)\n",
    "plt.plot(epochs, acc, 'bo', label='Training acc')\n",
    "plt.plot(epochs, val_acc, 'b', label='Validation acc')\n",
    "plt.title('Training and validation accuracy')\n",
    "plt.legend()\n",
    "plt.figure()\n",
    "plt.plot(epochs, loss, 'bo', label='Training loss')\n",
    "plt.plot(epochs, val_loss, 'b', label='Validation loss')\n",
    "plt.title('Training and validation loss')\n",
    "plt.legend()\n",
    "plt.show()"
   ]
  },
  {
   "cell_type": "code",
   "execution_count": 16,
   "metadata": {},
   "outputs": [],
   "source": [
    "index=next(train_generator.index_generator)"
   ]
  },
  {
   "cell_type": "code",
   "execution_count": 17,
   "metadata": {},
   "outputs": [],
   "source": [
    "image_batch,label_batch=train_generator._get_batches_of_transformed_samples(index)"
   ]
  },
  {
   "cell_type": "code",
   "execution_count": 18,
   "metadata": {},
   "outputs": [
    {
     "ename": "TypeError",
     "evalue": "only integer scalar arrays can be converted to a scalar index",
     "output_type": "error",
     "traceback": [
      "\u001b[0;31m---------------------------------------------------------------------------\u001b[0m",
      "\u001b[0;31mTypeError\u001b[0m                                 Traceback (most recent call last)",
      "\u001b[0;32m<ipython-input-18-43752dc587f2>\u001b[0m in \u001b[0;36m<module>\u001b[0;34m()\u001b[0m\n\u001b[0;32m----> 1\u001b[0;31m \u001b[0mimage_name\u001b[0m\u001b[0;34m=\u001b[0m\u001b[0mtrain_generator\u001b[0m\u001b[0;34m.\u001b[0m\u001b[0mfilenames\u001b[0m\u001b[0;34m[\u001b[0m\u001b[0mindex\u001b[0m\u001b[0;34m]\u001b[0m\u001b[0;34m\u001b[0m\u001b[0m\n\u001b[0m",
      "\u001b[0;31mTypeError\u001b[0m: only integer scalar arrays can be converted to a scalar index"
     ]
    }
   ],
   "source": [
    "image_name=train_generator.filenames[index]"
   ]
  },
  {
   "cell_type": "code",
   "execution_count": 26,
   "metadata": {
    "scrolled": true
   },
   "outputs": [
    {
     "name": "stdout",
     "output_type": "stream",
     "text": [
      "9\n",
      "9\n"
     ]
    }
   ],
   "source": [
    "print(np.argmax(model.predict(image_batch)[2]))\n",
    "print(np.argmax(label_batch[2]))\n",
    "\n"
   ]
  },
  {
   "cell_type": "code",
   "execution_count": 27,
   "metadata": {},
   "outputs": [
    {
     "ename": "KeyboardInterrupt",
     "evalue": "",
     "output_type": "error",
     "traceback": [
      "\u001b[0;31m---------------------------------------------------------------------------\u001b[0m",
      "\u001b[0;31mKeyboardInterrupt\u001b[0m                         Traceback (most recent call last)",
      "\u001b[0;32m<ipython-input-27-6247f6108c71>\u001b[0m in \u001b[0;36m<module>\u001b[0;34m()\u001b[0m\n\u001b[1;32m     12\u001b[0m     \u001b[0mcv2\u001b[0m\u001b[0;34m.\u001b[0m\u001b[0mimshow\u001b[0m\u001b[0;34m(\u001b[0m\u001b[0;34m\"preview\"\u001b[0m\u001b[0;34m,\u001b[0m \u001b[0mframe\u001b[0m\u001b[0;34m)\u001b[0m\u001b[0;34m\u001b[0m\u001b[0m\n\u001b[1;32m     13\u001b[0m     \u001b[0mrval\u001b[0m\u001b[0;34m,\u001b[0m \u001b[0mframe\u001b[0m \u001b[0;34m=\u001b[0m \u001b[0mvc\u001b[0m\u001b[0;34m.\u001b[0m\u001b[0mread\u001b[0m\u001b[0;34m(\u001b[0m\u001b[0;34m)\u001b[0m\u001b[0;34m\u001b[0m\u001b[0m\n\u001b[0;32m---> 14\u001b[0;31m     \u001b[0mkey\u001b[0m \u001b[0;34m=\u001b[0m \u001b[0mcv2\u001b[0m\u001b[0;34m.\u001b[0m\u001b[0mwaitKey\u001b[0m\u001b[0;34m(\u001b[0m\u001b[0;36m20\u001b[0m\u001b[0;34m)\u001b[0m\u001b[0;34m\u001b[0m\u001b[0m\n\u001b[0m\u001b[1;32m     15\u001b[0m     \u001b[0;32mif\u001b[0m \u001b[0mkey\u001b[0m \u001b[0;34m==\u001b[0m \u001b[0;36m27\u001b[0m\u001b[0;34m:\u001b[0m \u001b[0;31m# exit on ESC\u001b[0m\u001b[0;34m\u001b[0m\u001b[0m\n\u001b[1;32m     16\u001b[0m         \u001b[0;32mbreak\u001b[0m\u001b[0;34m\u001b[0m\u001b[0m\n",
      "\u001b[0;31mKeyboardInterrupt\u001b[0m: "
     ]
    }
   ],
   "source": []
  },
  {
   "cell_type": "code",
   "execution_count": null,
   "metadata": {},
   "outputs": [],
   "source": []
  }
 ],
 "metadata": {
  "kernelspec": {
   "display_name": "Python 3",
   "language": "python",
   "name": "python3"
  },
  "language_info": {
   "codemirror_mode": {
    "name": "ipython",
    "version": 3
   },
   "file_extension": ".py",
   "mimetype": "text/x-python",
   "name": "python",
   "nbconvert_exporter": "python",
   "pygments_lexer": "ipython3",
   "version": "3.6.5"
  }
 },
 "nbformat": 4,
 "nbformat_minor": 2
}
